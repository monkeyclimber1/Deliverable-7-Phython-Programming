{
  "nbformat": 4,
  "nbformat_minor": 0,
  "metadata": {
    "colab": {
      "provenance": []
    },
    "kernelspec": {
      "name": "python3",
      "display_name": "Python 3"
    },
    "language_info": {
      "name": "python"
    }
  },
  "cells": [
    {
      "cell_type": "code",
      "execution_count": null,
      "metadata": {
        "id": "YwH_WRymdCl_"
      },
      "outputs": [],
      "source": [
        "import numpy as num\n"
      ]
    },
    {
      "cell_type": "code",
      "source": [
        "def get_random_array (array_len):\n",
        "  return num.random.randint(10,50,array_len)"
      ],
      "metadata": {
        "id": "wdyOQaLIdUMu"
      },
      "execution_count": null,
      "outputs": []
    },
    {
      "cell_type": "code",
      "source": [
        "def get_array_sum(array):\n",
        "  return sum(array)"
      ],
      "metadata": {
        "id": "2uihDuw6dUVU"
      },
      "execution_count": null,
      "outputs": []
    },
    {
      "cell_type": "code",
      "source": [
        "array_length = ''\n",
        "\n",
        "while True:\n",
        "  try:\n",
        "    array_length = int(input(\"Enter an integer between 5 and 15 \"))\n",
        "  except ValueError:\n",
        "    print(\"Enter a Valid Integer\")\n",
        "    continue\n",
        "\n",
        "  if array_length < 5 or array_length > 15:\n",
        "    print(\"Input is Outside of Range\")\n",
        "    continue\n",
        "  else:\n",
        "    array = get_random_array(array_length)\n",
        "    array_sum = get_array_sum(array)\n",
        "\n",
        "    print(f\"The numbers of the random array are: {array}\")\n",
        "    print(f\"The sum of the array is: {array_sum}\")\n",
        "    break"
      ],
      "metadata": {
        "colab": {
          "base_uri": "https://localhost:8080/"
        },
        "id": "iRp2JW_cdUcU",
        "outputId": "176d0df3-5209-494e-80d6-89db535501d3"
      },
      "execution_count": null,
      "outputs": [
        {
          "output_type": "stream",
          "name": "stdout",
          "text": [
            "Enter an integer between 5 and 15 6\n",
            "The numbers of the random array are: [38 16 34 20 18 10]\n",
            "The sum of the array is: 136\n"
          ]
        }
      ]
    },
    {
      "cell_type": "code",
      "source": [],
      "metadata": {
        "id": "uf-Z1qc1dUgE"
      },
      "execution_count": null,
      "outputs": []
    },
    {
      "cell_type": "code",
      "source": [],
      "metadata": {
        "id": "XAU0ZXM1dUi1"
      },
      "execution_count": null,
      "outputs": []
    }
  ]
}